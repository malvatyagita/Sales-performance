{
  "nbformat": 4,
  "nbformat_minor": 5,
  "metadata": {
    "kernelspec": {
      "display_name": "Python 3 (ipykernel)",
      "language": "python",
      "name": "python3"
    },
    "language_info": {
      "codemirror_mode": {
        "name": "ipython",
        "version": 3
      },
      "file_extension": ".py",
      "mimetype": "text/x-python",
      "name": "python",
      "nbconvert_exporter": "python",
      "pygments_lexer": "ipython3",
      "version": "3.9.6"
    },
    "colab": {
      "name": "Sales performance.ipynb",
      "provenance": [],
      "collapsed_sections": []
    }
  },
  "cells": [
    {
      "cell_type": "markdown",
      "metadata": {
        "id": "578645f2"
      },
      "source": [
        "# Measuring Online Retail Sales Performance"
      ],
      "id": "578645f2"
    },
    {
      "cell_type": "markdown",
      "metadata": {
        "id": "-yk9UTsB8d6o"
      },
      "source": [
        "by: Malva Nurina Tyagita\n",
        "\n",
        "Project from: Rakamin"
      ],
      "id": "-yk9UTsB8d6o"
    },
    {
      "cell_type": "markdown",
      "metadata": {
        "id": "ebf52fe7"
      },
      "source": [
        "## Load Data"
      ],
      "id": "ebf52fe7"
    },
    {
      "cell_type": "code",
      "metadata": {
        "id": "-o2Tg4275y8f"
      },
      "source": [
        "# Import libraries\n",
        "import pandas as pd\n",
        "import numpy as np\n",
        "import re\n",
        "import statistics\n",
        "import matplotlib.pyplot as plt\n",
        "import seaborn as sns"
      ],
      "id": "-o2Tg4275y8f",
      "execution_count": 18,
      "outputs": []
    },
    {
      "cell_type": "code",
      "metadata": {
        "id": "6c4b0183",
        "colab": {
          "base_uri": "https://localhost:8080/"
        },
        "outputId": "156962a2-40d6-4b8f-b5c9-81c52d9ca47a"
      },
      "source": [
        "# Mount google drive\n",
        "from google.colab import drive\n",
        "drive.mount('/content/gdrive')"
      ],
      "id": "6c4b0183",
      "execution_count": 2,
      "outputs": [
        {
          "output_type": "stream",
          "name": "stdout",
          "text": [
            "Mounted at /content/gdrive\n"
          ]
        }
      ]
    },
    {
      "cell_type": "code",
      "metadata": {
        "colab": {
          "base_uri": "https://localhost:8080/"
        },
        "id": "1hUCQQAvtMxO",
        "outputId": "241db5f8-9a91-4f6f-bab3-28cacf4831b9"
      },
      "source": [
        "# Change the folder\n",
        "%cd /content/gdrive/MyDrive/Colab Notebooks"
      ],
      "id": "1hUCQQAvtMxO",
      "execution_count": 3,
      "outputs": [
        {
          "output_type": "stream",
          "name": "stdout",
          "text": [
            "/content/gdrive/MyDrive/Colab Notebooks\n"
          ]
        }
      ]
    },
    {
      "cell_type": "code",
      "metadata": {
        "id": "3YSfKPwctVRY"
      },
      "source": [
        "# Read data\n",
        "df = pd.read_csv('online_retail_II.csv')"
      ],
      "id": "3YSfKPwctVRY",
      "execution_count": 4,
      "outputs": []
    },
    {
      "cell_type": "markdown",
      "metadata": {
        "id": "0oyxXlAy88Vi"
      },
      "source": [
        "## Data Attributes"
      ],
      "id": "0oyxXlAy88Vi"
    },
    {
      "cell_type": "markdown",
      "metadata": {
        "id": "4jbcjAal8-76"
      },
      "source": [
        "- Invoice : 6-digit invoice number assigned uniquely for each transaction. If this code starts with the letter 'C', it indicates cancellation.\n",
        "\n",
        "- StockCode : Product code (item). A 5 digit number assigned uniquely to each different product.\n",
        "\n",
        "- Description : Product name.\n",
        "\n",
        "- Quantity : Total quantity of each product per transaction.\n",
        "\n",
        "- InvoiceDate : The date and time of the invoice, i.e. the day and time the transaction was made.\n",
        "\n",
        "- UnitPrice : Unit price or product price per unit in sterling (£).\n",
        "\n",
        "- CustomerID : A 5-digit number that is uniquely assigned to each subscriber.\n",
        "\n",
        "- Country : Name of the customer's country of residence."
      ],
      "id": "4jbcjAal8-76"
    },
    {
      "cell_type": "markdown",
      "metadata": {
        "id": "794e2063"
      },
      "source": [
        "## Data Checking"
      ],
      "id": "794e2063"
    },
    {
      "cell_type": "markdown",
      "metadata": {
        "id": "e4u5q9Zi7hqR"
      },
      "source": [
        "By data checking, we have a total of 1067371 rows and 8 columns of data representing the information for the Online retail sales performance for each rows. 6 columns of them have full information, and there is no nan data in it."
      ],
      "id": "e4u5q9Zi7hqR"
    },
    {
      "cell_type": "code",
      "metadata": {
        "colab": {
          "base_uri": "https://localhost:8080/"
        },
        "id": "mhRfSTa76zDN",
        "outputId": "b8a0709f-703e-454e-a5fc-6f4fd15c5922"
      },
      "source": [
        "# Simple data checking\n",
        "df.info()"
      ],
      "id": "mhRfSTa76zDN",
      "execution_count": 5,
      "outputs": [
        {
          "output_type": "stream",
          "name": "stdout",
          "text": [
            "<class 'pandas.core.frame.DataFrame'>\n",
            "RangeIndex: 1067371 entries, 0 to 1067370\n",
            "Data columns (total 8 columns):\n",
            " #   Column       Non-Null Count    Dtype  \n",
            "---  ------       --------------    -----  \n",
            " 0   Invoice      1067371 non-null  object \n",
            " 1   StockCode    1067371 non-null  object \n",
            " 2   Description  1062989 non-null  object \n",
            " 3   Quantity     1067371 non-null  int64  \n",
            " 4   InvoiceDate  1067371 non-null  object \n",
            " 5   Price        1067371 non-null  float64\n",
            " 6   Customer ID  824364 non-null   float64\n",
            " 7   Country      1067371 non-null  object \n",
            "dtypes: float64(2), int64(1), object(5)\n",
            "memory usage: 65.1+ MB\n"
          ]
        }
      ]
    },
    {
      "cell_type": "code",
      "metadata": {
        "colab": {
          "base_uri": "https://localhost:8080/",
          "height": 204
        },
        "id": "mATpIB3-7TMe",
        "outputId": "4defd6c4-5dd9-415f-ebd3-e9f16e31a8f1"
      },
      "source": [
        "# First 5 rows of data\n",
        "df.head()"
      ],
      "id": "mATpIB3-7TMe",
      "execution_count": 7,
      "outputs": [
        {
          "output_type": "execute_result",
          "data": {
            "text/html": [
              "<div>\n",
              "<style scoped>\n",
              "    .dataframe tbody tr th:only-of-type {\n",
              "        vertical-align: middle;\n",
              "    }\n",
              "\n",
              "    .dataframe tbody tr th {\n",
              "        vertical-align: top;\n",
              "    }\n",
              "\n",
              "    .dataframe thead th {\n",
              "        text-align: right;\n",
              "    }\n",
              "</style>\n",
              "<table border=\"1\" class=\"dataframe\">\n",
              "  <thead>\n",
              "    <tr style=\"text-align: right;\">\n",
              "      <th></th>\n",
              "      <th>Invoice</th>\n",
              "      <th>StockCode</th>\n",
              "      <th>Description</th>\n",
              "      <th>Quantity</th>\n",
              "      <th>InvoiceDate</th>\n",
              "      <th>Price</th>\n",
              "      <th>Customer ID</th>\n",
              "      <th>Country</th>\n",
              "    </tr>\n",
              "  </thead>\n",
              "  <tbody>\n",
              "    <tr>\n",
              "      <th>0</th>\n",
              "      <td>489434</td>\n",
              "      <td>85048</td>\n",
              "      <td>15CM CHRISTMAS GLASS BALL 20 LIGHTS</td>\n",
              "      <td>12</td>\n",
              "      <td>2009-12-01 07:45:00</td>\n",
              "      <td>6.95</td>\n",
              "      <td>13085.0</td>\n",
              "      <td>United Kingdom</td>\n",
              "    </tr>\n",
              "    <tr>\n",
              "      <th>1</th>\n",
              "      <td>489434</td>\n",
              "      <td>79323P</td>\n",
              "      <td>PINK CHERRY LIGHTS</td>\n",
              "      <td>12</td>\n",
              "      <td>2009-12-01 07:45:00</td>\n",
              "      <td>6.75</td>\n",
              "      <td>13085.0</td>\n",
              "      <td>United Kingdom</td>\n",
              "    </tr>\n",
              "    <tr>\n",
              "      <th>2</th>\n",
              "      <td>489434</td>\n",
              "      <td>79323W</td>\n",
              "      <td>WHITE CHERRY LIGHTS</td>\n",
              "      <td>12</td>\n",
              "      <td>2009-12-01 07:45:00</td>\n",
              "      <td>6.75</td>\n",
              "      <td>13085.0</td>\n",
              "      <td>United Kingdom</td>\n",
              "    </tr>\n",
              "    <tr>\n",
              "      <th>3</th>\n",
              "      <td>489434</td>\n",
              "      <td>22041</td>\n",
              "      <td>RECORD FRAME 7\" SINGLE SIZE</td>\n",
              "      <td>48</td>\n",
              "      <td>2009-12-01 07:45:00</td>\n",
              "      <td>2.10</td>\n",
              "      <td>13085.0</td>\n",
              "      <td>United Kingdom</td>\n",
              "    </tr>\n",
              "    <tr>\n",
              "      <th>4</th>\n",
              "      <td>489434</td>\n",
              "      <td>21232</td>\n",
              "      <td>STRAWBERRY CERAMIC TRINKET BOX</td>\n",
              "      <td>24</td>\n",
              "      <td>2009-12-01 07:45:00</td>\n",
              "      <td>1.25</td>\n",
              "      <td>13085.0</td>\n",
              "      <td>United Kingdom</td>\n",
              "    </tr>\n",
              "  </tbody>\n",
              "</table>\n",
              "</div>"
            ],
            "text/plain": [
              "  Invoice StockCode  ... Customer ID         Country\n",
              "0  489434     85048  ...     13085.0  United Kingdom\n",
              "1  489434    79323P  ...     13085.0  United Kingdom\n",
              "2  489434    79323W  ...     13085.0  United Kingdom\n",
              "3  489434     22041  ...     13085.0  United Kingdom\n",
              "4  489434     21232  ...     13085.0  United Kingdom\n",
              "\n",
              "[5 rows x 8 columns]"
            ]
          },
          "metadata": {},
          "execution_count": 7
        }
      ]
    },
    {
      "cell_type": "markdown",
      "metadata": {
        "id": "rSJwDDvr__XF"
      },
      "source": [
        "## Analyzing Average Income per Year"
      ],
      "id": "rSJwDDvr__XF"
    },
    {
      "cell_type": "markdown",
      "metadata": {
        "id": "0ead195f"
      },
      "source": [
        "### Create New Feature: Year"
      ],
      "id": "0ead195f"
    },
    {
      "cell_type": "markdown",
      "metadata": {
        "id": "vgRGbrvy-49A"
      },
      "source": [
        "Create a new column 'Year' from column 'InvoiceDate' which is still in Datetime format."
      ],
      "id": "vgRGbrvy-49A"
    },
    {
      "cell_type": "code",
      "metadata": {
        "id": "5a1281e7"
      },
      "source": [
        "df.insert(5, \"Year\", pd.DatetimeIndex(df['InvoiceDate']).year)"
      ],
      "id": "5a1281e7",
      "execution_count": 9,
      "outputs": []
    },
    {
      "cell_type": "markdown",
      "metadata": {
        "id": "9a9f5438"
      },
      "source": [
        "### Filtering Data"
      ],
      "id": "9a9f5438"
    },
    {
      "cell_type": "markdown",
      "metadata": {
        "id": "gRjWe9yL_ZWE"
      },
      "source": [
        "Create a new variable 'sales' by filtering:\n",
        "- Quantity at least 1 (cannot be 0 and minus)\n",
        "- The Invoice column does not contain the letter 'C' because it indicates the customer did not complete his shopping or made a cancellation."
      ],
      "id": "gRjWe9yL_ZWE"
    },
    {
      "cell_type": "code",
      "metadata": {
        "id": "547a9e99"
      },
      "source": [
        "sales = df[(df['Invoice'].str.contains('C') == False) & \n",
        "                   (df['Quantity']>=1)\n",
        "                   ]"
      ],
      "id": "547a9e99",
      "execution_count": 10,
      "outputs": []
    },
    {
      "cell_type": "markdown",
      "metadata": {
        "id": "0bef109f"
      },
      "source": [
        "### Create New Feature: Revenue"
      ],
      "id": "0bef109f"
    },
    {
      "cell_type": "code",
      "metadata": {
        "id": "9a670915"
      },
      "source": [
        "sales.insert(7, 'Revenue', (sales['Quantity'])*(sales['Price']))"
      ],
      "id": "9a670915",
      "execution_count": 11,
      "outputs": []
    },
    {
      "cell_type": "code",
      "metadata": {
        "colab": {
          "base_uri": "https://localhost:8080/",
          "height": 419
        },
        "id": "8s2GpS3owQVX",
        "outputId": "7e7df3ec-3a93-466b-f584-93550f4d013a"
      },
      "source": [
        "# Checking new variable\n",
        "sales"
      ],
      "id": "8s2GpS3owQVX",
      "execution_count": 13,
      "outputs": [
        {
          "output_type": "execute_result",
          "data": {
            "text/html": [
              "<div>\n",
              "<style scoped>\n",
              "    .dataframe tbody tr th:only-of-type {\n",
              "        vertical-align: middle;\n",
              "    }\n",
              "\n",
              "    .dataframe tbody tr th {\n",
              "        vertical-align: top;\n",
              "    }\n",
              "\n",
              "    .dataframe thead th {\n",
              "        text-align: right;\n",
              "    }\n",
              "</style>\n",
              "<table border=\"1\" class=\"dataframe\">\n",
              "  <thead>\n",
              "    <tr style=\"text-align: right;\">\n",
              "      <th></th>\n",
              "      <th>Invoice</th>\n",
              "      <th>StockCode</th>\n",
              "      <th>Description</th>\n",
              "      <th>Quantity</th>\n",
              "      <th>InvoiceDate</th>\n",
              "      <th>Year</th>\n",
              "      <th>Price</th>\n",
              "      <th>Revenue</th>\n",
              "      <th>Customer ID</th>\n",
              "      <th>Country</th>\n",
              "    </tr>\n",
              "  </thead>\n",
              "  <tbody>\n",
              "    <tr>\n",
              "      <th>0</th>\n",
              "      <td>489434</td>\n",
              "      <td>85048</td>\n",
              "      <td>15CM CHRISTMAS GLASS BALL 20 LIGHTS</td>\n",
              "      <td>12</td>\n",
              "      <td>2009-12-01 07:45:00</td>\n",
              "      <td>2009</td>\n",
              "      <td>6.95</td>\n",
              "      <td>83.40</td>\n",
              "      <td>13085.0</td>\n",
              "      <td>United Kingdom</td>\n",
              "    </tr>\n",
              "    <tr>\n",
              "      <th>1</th>\n",
              "      <td>489434</td>\n",
              "      <td>79323P</td>\n",
              "      <td>PINK CHERRY LIGHTS</td>\n",
              "      <td>12</td>\n",
              "      <td>2009-12-01 07:45:00</td>\n",
              "      <td>2009</td>\n",
              "      <td>6.75</td>\n",
              "      <td>81.00</td>\n",
              "      <td>13085.0</td>\n",
              "      <td>United Kingdom</td>\n",
              "    </tr>\n",
              "    <tr>\n",
              "      <th>2</th>\n",
              "      <td>489434</td>\n",
              "      <td>79323W</td>\n",
              "      <td>WHITE CHERRY LIGHTS</td>\n",
              "      <td>12</td>\n",
              "      <td>2009-12-01 07:45:00</td>\n",
              "      <td>2009</td>\n",
              "      <td>6.75</td>\n",
              "      <td>81.00</td>\n",
              "      <td>13085.0</td>\n",
              "      <td>United Kingdom</td>\n",
              "    </tr>\n",
              "    <tr>\n",
              "      <th>3</th>\n",
              "      <td>489434</td>\n",
              "      <td>22041</td>\n",
              "      <td>RECORD FRAME 7\" SINGLE SIZE</td>\n",
              "      <td>48</td>\n",
              "      <td>2009-12-01 07:45:00</td>\n",
              "      <td>2009</td>\n",
              "      <td>2.10</td>\n",
              "      <td>100.80</td>\n",
              "      <td>13085.0</td>\n",
              "      <td>United Kingdom</td>\n",
              "    </tr>\n",
              "    <tr>\n",
              "      <th>4</th>\n",
              "      <td>489434</td>\n",
              "      <td>21232</td>\n",
              "      <td>STRAWBERRY CERAMIC TRINKET BOX</td>\n",
              "      <td>24</td>\n",
              "      <td>2009-12-01 07:45:00</td>\n",
              "      <td>2009</td>\n",
              "      <td>1.25</td>\n",
              "      <td>30.00</td>\n",
              "      <td>13085.0</td>\n",
              "      <td>United Kingdom</td>\n",
              "    </tr>\n",
              "    <tr>\n",
              "      <th>...</th>\n",
              "      <td>...</td>\n",
              "      <td>...</td>\n",
              "      <td>...</td>\n",
              "      <td>...</td>\n",
              "      <td>...</td>\n",
              "      <td>...</td>\n",
              "      <td>...</td>\n",
              "      <td>...</td>\n",
              "      <td>...</td>\n",
              "      <td>...</td>\n",
              "    </tr>\n",
              "    <tr>\n",
              "      <th>1067366</th>\n",
              "      <td>581587</td>\n",
              "      <td>22899</td>\n",
              "      <td>CHILDREN'S APRON DOLLY GIRL</td>\n",
              "      <td>6</td>\n",
              "      <td>2011-12-09 12:50:00</td>\n",
              "      <td>2011</td>\n",
              "      <td>2.10</td>\n",
              "      <td>12.60</td>\n",
              "      <td>12680.0</td>\n",
              "      <td>France</td>\n",
              "    </tr>\n",
              "    <tr>\n",
              "      <th>1067367</th>\n",
              "      <td>581587</td>\n",
              "      <td>23254</td>\n",
              "      <td>CHILDRENS CUTLERY DOLLY GIRL</td>\n",
              "      <td>4</td>\n",
              "      <td>2011-12-09 12:50:00</td>\n",
              "      <td>2011</td>\n",
              "      <td>4.15</td>\n",
              "      <td>16.60</td>\n",
              "      <td>12680.0</td>\n",
              "      <td>France</td>\n",
              "    </tr>\n",
              "    <tr>\n",
              "      <th>1067368</th>\n",
              "      <td>581587</td>\n",
              "      <td>23255</td>\n",
              "      <td>CHILDRENS CUTLERY CIRCUS PARADE</td>\n",
              "      <td>4</td>\n",
              "      <td>2011-12-09 12:50:00</td>\n",
              "      <td>2011</td>\n",
              "      <td>4.15</td>\n",
              "      <td>16.60</td>\n",
              "      <td>12680.0</td>\n",
              "      <td>France</td>\n",
              "    </tr>\n",
              "    <tr>\n",
              "      <th>1067369</th>\n",
              "      <td>581587</td>\n",
              "      <td>22138</td>\n",
              "      <td>BAKING SET 9 PIECE RETROSPOT</td>\n",
              "      <td>3</td>\n",
              "      <td>2011-12-09 12:50:00</td>\n",
              "      <td>2011</td>\n",
              "      <td>4.95</td>\n",
              "      <td>14.85</td>\n",
              "      <td>12680.0</td>\n",
              "      <td>France</td>\n",
              "    </tr>\n",
              "    <tr>\n",
              "      <th>1067370</th>\n",
              "      <td>581587</td>\n",
              "      <td>POST</td>\n",
              "      <td>POSTAGE</td>\n",
              "      <td>1</td>\n",
              "      <td>2011-12-09 12:50:00</td>\n",
              "      <td>2011</td>\n",
              "      <td>18.00</td>\n",
              "      <td>18.00</td>\n",
              "      <td>12680.0</td>\n",
              "      <td>France</td>\n",
              "    </tr>\n",
              "  </tbody>\n",
              "</table>\n",
              "<p>1044420 rows × 10 columns</p>\n",
              "</div>"
            ],
            "text/plain": [
              "        Invoice StockCode  ... Customer ID         Country\n",
              "0        489434     85048  ...     13085.0  United Kingdom\n",
              "1        489434    79323P  ...     13085.0  United Kingdom\n",
              "2        489434    79323W  ...     13085.0  United Kingdom\n",
              "3        489434     22041  ...     13085.0  United Kingdom\n",
              "4        489434     21232  ...     13085.0  United Kingdom\n",
              "...         ...       ...  ...         ...             ...\n",
              "1067366  581587     22899  ...     12680.0          France\n",
              "1067367  581587     23254  ...     12680.0          France\n",
              "1067368  581587     23255  ...     12680.0          France\n",
              "1067369  581587     22138  ...     12680.0          France\n",
              "1067370  581587      POST  ...     12680.0          France\n",
              "\n",
              "[1044420 rows x 10 columns]"
            ]
          },
          "metadata": {},
          "execution_count": 13
        }
      ]
    },
    {
      "cell_type": "markdown",
      "metadata": {
        "id": "c955f053"
      },
      "source": [
        "### Average of Revenue per Year"
      ],
      "id": "c955f053"
    },
    {
      "cell_type": "markdown",
      "metadata": {
        "id": "Bw5TKU2QFlUl"
      },
      "source": [
        "From the results of the average output of Revenue per year, the average Revenue increases every year, starting from 2009 to 2011."
      ],
      "id": "Bw5TKU2QFlUl"
    },
    {
      "cell_type": "code",
      "metadata": {
        "id": "4a2e5ed4",
        "colab": {
          "base_uri": "https://localhost:8080/"
        },
        "outputId": "73552a7e-dbfd-460a-c3e7-f3113b78f33a"
      },
      "source": [
        "sales1 = sales.groupby(['Year']).agg({'Revenue': 'mean'}).reset_index()\n",
        "print(sales1)"
      ],
      "id": "4a2e5ed4",
      "execution_count": 14,
      "outputs": [
        {
          "output_type": "stream",
          "name": "stdout",
          "text": [
            "   Year    Revenue\n",
            "0  2009  18.713273\n",
            "1  2010  19.908987\n",
            "2  2011  20.058767\n"
          ]
        }
      ]
    },
    {
      "cell_type": "code",
      "metadata": {
        "colab": {
          "base_uri": "https://localhost:8080/",
          "height": 367
        },
        "id": "VfZlAiIj9ffX",
        "outputId": "5416f5ae-b3f6-4857-b682-8ac178c4ce6d"
      },
      "source": [
        "# Visualization\n",
        "fig, ax = plt.subplots(figsize=(7,5))\n",
        "sns.barplot(data=sales1, x = 'Year',y='Revenue',\n",
        "                color='green')\n",
        "ax.set_title('Mean Revenue Graph')\n",
        "ax.set_ylabel('Mean Revenue')\n"
      ],
      "id": "VfZlAiIj9ffX",
      "execution_count": 26,
      "outputs": [
        {
          "output_type": "execute_result",
          "data": {
            "text/plain": [
              "Text(0, 0.5, 'Mean Revenue')"
            ]
          },
          "metadata": {},
          "execution_count": 26
        },
        {
          "output_type": "display_data",
          "data": {
            "image/png": "[encoded data removed]",
            "text/plain": [
              "<Figure size 504x360 with 1 Axes>"
            ]
          },
          "metadata": {
            "needs_background": "light"
          }
        }
      ]
    },
    {
      "cell_type": "markdown",
      "metadata": {
        "id": "4ff5f5d4"
      },
      "source": [
        "## Analyzing Customer Transactions Per Year"
      ],
      "id": "4ff5f5d4"
    },
    {
      "cell_type": "markdown",
      "metadata": {
        "id": "8dadd5ef"
      },
      "source": [
        "### Filtering Data "
      ],
      "id": "8dadd5ef"
    },
    {
      "cell_type": "markdown",
      "metadata": {
        "id": "2c053fd2"
      },
      "source": [
        "#### Customers who finished their purchases"
      ],
      "id": "2c053fd2"
    },
    {
      "cell_type": "markdown",
      "metadata": {
        "id": "dwZHdNzBGFEZ"
      },
      "source": [
        "Filtering using 'sales' data provided that the CustomerID cannot be empty or null. Then save it in 'finished' variable."
      ],
      "id": "dwZHdNzBGFEZ"
    },
    {
      "cell_type": "code",
      "metadata": {
        "id": "d992a159",
        "colab": {
          "base_uri": "https://localhost:8080/",
          "height": 419
        },
        "outputId": "188c2b30-7b2c-4045-b3fd-915f5e6858a9"
      },
      "source": [
        "finished = sales[(sales['Customer ID']!=0)]\n",
        "finished"
      ],
      "id": "d992a159",
      "execution_count": 24,
      "outputs": [
        {
          "output_type": "execute_result",
          "data": {
            "text/html": [
              "<div>\n",
              "<style scoped>\n",
              "    .dataframe tbody tr th:only-of-type {\n",
              "        vertical-align: middle;\n",
              "    }\n",
              "\n",
              "    .dataframe tbody tr th {\n",
              "        vertical-align: top;\n",
              "    }\n",
              "\n",
              "    .dataframe thead th {\n",
              "        text-align: right;\n",
              "    }\n",
              "</style>\n",
              "<table border=\"1\" class=\"dataframe\">\n",
              "  <thead>\n",
              "    <tr style=\"text-align: right;\">\n",
              "      <th></th>\n",
              "      <th>Invoice</th>\n",
              "      <th>StockCode</th>\n",
              "      <th>Description</th>\n",
              "      <th>Quantity</th>\n",
              "      <th>InvoiceDate</th>\n",
              "      <th>Year</th>\n",
              "      <th>Price</th>\n",
              "      <th>Revenue</th>\n",
              "      <th>Customer ID</th>\n",
              "      <th>Country</th>\n",
              "    </tr>\n",
              "  </thead>\n",
              "  <tbody>\n",
              "    <tr>\n",
              "      <th>0</th>\n",
              "      <td>489434</td>\n",
              "      <td>85048</td>\n",
              "      <td>15CM CHRISTMAS GLASS BALL 20 LIGHTS</td>\n",
              "      <td>12</td>\n",
              "      <td>2009-12-01 07:45:00</td>\n",
              "      <td>2009</td>\n",
              "      <td>6.95</td>\n",
              "      <td>83.40</td>\n",
              "      <td>13085.0</td>\n",
              "      <td>United Kingdom</td>\n",
              "    </tr>\n",
              "    <tr>\n",
              "      <th>1</th>\n",
              "      <td>489434</td>\n",
              "      <td>79323P</td>\n",
              "      <td>PINK CHERRY LIGHTS</td>\n",
              "      <td>12</td>\n",
              "      <td>2009-12-01 07:45:00</td>\n",
              "      <td>2009</td>\n",
              "      <td>6.75</td>\n",
              "      <td>81.00</td>\n",
              "      <td>13085.0</td>\n",
              "      <td>United Kingdom</td>\n",
              "    </tr>\n",
              "    <tr>\n",
              "      <th>2</th>\n",
              "      <td>489434</td>\n",
              "      <td>79323W</td>\n",
              "      <td>WHITE CHERRY LIGHTS</td>\n",
              "      <td>12</td>\n",
              "      <td>2009-12-01 07:45:00</td>\n",
              "      <td>2009</td>\n",
              "      <td>6.75</td>\n",
              "      <td>81.00</td>\n",
              "      <td>13085.0</td>\n",
              "      <td>United Kingdom</td>\n",
              "    </tr>\n",
              "    <tr>\n",
              "      <th>3</th>\n",
              "      <td>489434</td>\n",
              "      <td>22041</td>\n",
              "      <td>RECORD FRAME 7\" SINGLE SIZE</td>\n",
              "      <td>48</td>\n",
              "      <td>2009-12-01 07:45:00</td>\n",
              "      <td>2009</td>\n",
              "      <td>2.10</td>\n",
              "      <td>100.80</td>\n",
              "      <td>13085.0</td>\n",
              "      <td>United Kingdom</td>\n",
              "    </tr>\n",
              "    <tr>\n",
              "      <th>4</th>\n",
              "      <td>489434</td>\n",
              "      <td>21232</td>\n",
              "      <td>STRAWBERRY CERAMIC TRINKET BOX</td>\n",
              "      <td>24</td>\n",
              "      <td>2009-12-01 07:45:00</td>\n",
              "      <td>2009</td>\n",
              "      <td>1.25</td>\n",
              "      <td>30.00</td>\n",
              "      <td>13085.0</td>\n",
              "      <td>United Kingdom</td>\n",
              "    </tr>\n",
              "    <tr>\n",
              "      <th>...</th>\n",
              "      <td>...</td>\n",
              "      <td>...</td>\n",
              "      <td>...</td>\n",
              "      <td>...</td>\n",
              "      <td>...</td>\n",
              "      <td>...</td>\n",
              "      <td>...</td>\n",
              "      <td>...</td>\n",
              "      <td>...</td>\n",
              "      <td>...</td>\n",
              "    </tr>\n",
              "    <tr>\n",
              "      <th>1067366</th>\n",
              "      <td>581587</td>\n",
              "      <td>22899</td>\n",
              "      <td>CHILDREN'S APRON DOLLY GIRL</td>\n",
              "      <td>6</td>\n",
              "      <td>2011-12-09 12:50:00</td>\n",
              "      <td>2011</td>\n",
              "      <td>2.10</td>\n",
              "      <td>12.60</td>\n",
              "      <td>12680.0</td>\n",
              "      <td>France</td>\n",
              "    </tr>\n",
              "    <tr>\n",
              "      <th>1067367</th>\n",
              "      <td>581587</td>\n",
              "      <td>23254</td>\n",
              "      <td>CHILDRENS CUTLERY DOLLY GIRL</td>\n",
              "      <td>4</td>\n",
              "      <td>2011-12-09 12:50:00</td>\n",
              "      <td>2011</td>\n",
              "      <td>4.15</td>\n",
              "      <td>16.60</td>\n",
              "      <td>12680.0</td>\n",
              "      <td>France</td>\n",
              "    </tr>\n",
              "    <tr>\n",
              "      <th>1067368</th>\n",
              "      <td>581587</td>\n",
              "      <td>23255</td>\n",
              "      <td>CHILDRENS CUTLERY CIRCUS PARADE</td>\n",
              "      <td>4</td>\n",
              "      <td>2011-12-09 12:50:00</td>\n",
              "      <td>2011</td>\n",
              "      <td>4.15</td>\n",
              "      <td>16.60</td>\n",
              "      <td>12680.0</td>\n",
              "      <td>France</td>\n",
              "    </tr>\n",
              "    <tr>\n",
              "      <th>1067369</th>\n",
              "      <td>581587</td>\n",
              "      <td>22138</td>\n",
              "      <td>BAKING SET 9 PIECE RETROSPOT</td>\n",
              "      <td>3</td>\n",
              "      <td>2011-12-09 12:50:00</td>\n",
              "      <td>2011</td>\n",
              "      <td>4.95</td>\n",
              "      <td>14.85</td>\n",
              "      <td>12680.0</td>\n",
              "      <td>France</td>\n",
              "    </tr>\n",
              "    <tr>\n",
              "      <th>1067370</th>\n",
              "      <td>581587</td>\n",
              "      <td>POST</td>\n",
              "      <td>POSTAGE</td>\n",
              "      <td>1</td>\n",
              "      <td>2011-12-09 12:50:00</td>\n",
              "      <td>2011</td>\n",
              "      <td>18.00</td>\n",
              "      <td>18.00</td>\n",
              "      <td>12680.0</td>\n",
              "      <td>France</td>\n",
              "    </tr>\n",
              "  </tbody>\n",
              "</table>\n",
              "<p>1044420 rows × 10 columns</p>\n",
              "</div>"
            ],
            "text/plain": [
              "        Invoice StockCode  ... Customer ID         Country\n",
              "0        489434     85048  ...     13085.0  United Kingdom\n",
              "1        489434    79323P  ...     13085.0  United Kingdom\n",
              "2        489434    79323W  ...     13085.0  United Kingdom\n",
              "3        489434     22041  ...     13085.0  United Kingdom\n",
              "4        489434     21232  ...     13085.0  United Kingdom\n",
              "...         ...       ...  ...         ...             ...\n",
              "1067366  581587     22899  ...     12680.0          France\n",
              "1067367  581587     23254  ...     12680.0          France\n",
              "1067368  581587     23255  ...     12680.0          France\n",
              "1067369  581587     22138  ...     12680.0          France\n",
              "1067370  581587      POST  ...     12680.0          France\n",
              "\n",
              "[1044420 rows x 10 columns]"
            ]
          },
          "metadata": {},
          "execution_count": 24
        }
      ]
    },
    {
      "cell_type": "markdown",
      "metadata": {
        "id": "136b9900"
      },
      "source": [
        "#### Customers who canceled their purchases"
      ],
      "id": "136b9900"
    },
    {
      "cell_type": "markdown",
      "metadata": {
        "id": "FrsP3VPSGTdt"
      },
      "source": [
        "Filtering data to group customers who cancel their purchases, by detecting the Invoice column containing the letter 'C'. Then save it in a new variable named 'cancel'."
      ],
      "id": "FrsP3VPSGTdt"
    },
    {
      "cell_type": "code",
      "metadata": {
        "id": "98af92ed",
        "colab": {
          "base_uri": "https://localhost:8080/"
        },
        "outputId": "8b517199-e3fe-435a-884a-f88b4cd3978b"
      },
      "source": [
        "cancel = df[(df['Invoice'].str.contains('C') == True)]\n",
        "print(cancel)"
      ],
      "id": "98af92ed",
      "execution_count": 23,
      "outputs": [
        {
          "output_type": "stream",
          "name": "stdout",
          "text": [
            "         Invoice StockCode  ... Customer ID         Country\n",
            "178      C489449     22087  ...     16321.0       Australia\n",
            "179      C489449    85206A  ...     16321.0       Australia\n",
            "180      C489449     21895  ...     16321.0       Australia\n",
            "181      C489449     21896  ...     16321.0       Australia\n",
            "182      C489449     22083  ...     16321.0       Australia\n",
            "...          ...       ...  ...         ...             ...\n",
            "1065910  C581490     23144  ...     14397.0  United Kingdom\n",
            "1067002  C581499         M  ...     15498.0  United Kingdom\n",
            "1067176  C581568     21258  ...     15311.0  United Kingdom\n",
            "1067177  C581569     84978  ...     17315.0  United Kingdom\n",
            "1067178  C581569     20979  ...     17315.0  United Kingdom\n",
            "\n",
            "[19494 rows x 9 columns]\n"
          ]
        }
      ]
    },
    {
      "cell_type": "markdown",
      "metadata": {
        "id": "d3fbb31a"
      },
      "source": [
        "### Number of Finished and Canceled Transactions Each Year"
      ],
      "id": "d3fbb31a"
    },
    {
      "cell_type": "markdown",
      "metadata": {
        "id": "grcKKiNCGixA"
      },
      "source": [
        "Count the number of successful transactions (from the finished variable) and the number of canceled transactions (from the cancel variable) for each year."
      ],
      "id": "grcKKiNCGixA"
    },
    {
      "cell_type": "code",
      "metadata": {
        "id": "04158c66",
        "colab": {
          "base_uri": "https://localhost:8080/"
        },
        "outputId": "ec3e73c6-d9a3-4435-de1b-fcec308fc0d7"
      },
      "source": [
        "# Finished\n",
        "finished_count = finished.groupby(['Year']).agg({'Quantity': 'count'}).reset_index()\n",
        "print(finished_count)"
      ],
      "id": "04158c66",
      "execution_count": 25,
      "outputs": [
        {
          "output_type": "stream",
          "name": "stdout",
          "text": [
            "   Year  Quantity\n",
            "0  2009     44123\n",
            "1  2010    510694\n",
            "2  2011    489603\n"
          ]
        }
      ]
    },
    {
      "cell_type": "code",
      "metadata": {
        "colab": {
          "base_uri": "https://localhost:8080/"
        },
        "id": "1R1jiJ4AIErP",
        "outputId": "b18fb1de-4c35-45e0-d55c-13829e635e18"
      },
      "source": [
        "# Canceled\n",
        "canceled_count = cancel.groupby(['Year']).agg({'Quantity': 'count'}).reset_index()\n",
        "print(canceled_count)"
      ],
      "id": "1R1jiJ4AIErP",
      "execution_count": 34,
      "outputs": [
        {
          "output_type": "stream",
          "name": "stdout",
          "text": [
            "   Year  Quantity\n",
            "0  2009      1015\n",
            "1  2010      9919\n",
            "2  2011      8560\n"
          ]
        }
      ]
    },
    {
      "cell_type": "code",
      "metadata": {
        "colab": {
          "base_uri": "https://localhost:8080/",
          "height": 571
        },
        "id": "ueJopmwtHKHz",
        "outputId": "e247828a-6332-4cc0-c455-5ae60c522c41"
      },
      "source": [
        "# Finished and canceled Visualization\n",
        "fig, ax = plt.subplots(1,2,figsize=(14,8))\n",
        "fig.suptitle('Finished & Canceled Transactions Graph', fontsize=15, fontweight='bold')\n",
        "\n",
        "# subplot 1\n",
        "sns.barplot(data=finished_count, x = 'Year', y='Quantity', color='blue', ax=ax[0])\n",
        "ax[0].set_title('Finished Transactions')\n",
        "\n",
        "# subplot 2\n",
        "sns.barplot(data=canceled_count, x = 'Year', y='Quantity', color='red', ax=ax[1])\n",
        "ax[1].set_title('Canceled Transactions')"
      ],
      "id": "ueJopmwtHKHz",
      "execution_count": 35,
      "outputs": [
        {
          "output_type": "execute_result",
          "data": {
            "text/plain": [
              "Text(0.5, 1.0, 'Canceled Transactions')"
            ]
          },
          "metadata": {},
          "execution_count": 35
        },
        {
          "output_type": "display_data",
          "data": {
            "image/png": "[encoded data removed]",
            "text/plain": [
              "<Figure size 1008x576 with 2 Axes>"
            ]
          },
          "metadata": {
            "needs_background": "light"
          }
        }
      ]
    },
    {
      "cell_type": "markdown",
      "metadata": {
        "id": "158f85e3"
      },
      "source": [
        "### Cancellation Rate"
      ],
      "id": "158f85e3"
    },
    {
      "cell_type": "markdown",
      "metadata": {
        "id": "jUwSCqtgIQmW"
      },
      "source": [
        "Calculate the cancellation rate for each year.\n",
        "\n",
        "Cancellation rate is the percentage of customers who cancel orders that have been made. The formula is the number of canceled customers divided by the total number of customers then multiplied by 100%."
      ],
      "id": "jUwSCqtgIQmW"
    },
    {
      "cell_type": "code",
      "metadata": {
        "id": "ca8edaa1",
        "colab": {
          "base_uri": "https://localhost:8080/"
        },
        "outputId": "3ffd43d7-b504-42ba-be75-8d2721cab5f7"
      },
      "source": [
        "cancel_cust_2009 = canceled_count['Quantity'][0]\n",
        "cancel_cust_2010 = canceled_count['Quantity'][1]\n",
        "cancel_cust_2011 = canceled_count['Quantity'][2]\n",
        "total_cust = len(sales['Customer ID'])\n",
        "\n",
        "cancel_rate_2009 = (cancel_cust_2009 / total_cust)*100\n",
        "cancel_rate_2010 = (cancel_cust_2010 / total_cust)*100\n",
        "cancel_rate_2011 = (cancel_cust_2011 / total_cust)*100\n",
        "\n",
        "print(f'cancellation rate in 2009 is', cancel_rate_2009, '%')\n",
        "print(f'cancellation rate in 2010 is', cancel_rate_2010, '%')\n",
        "print(f'cancellation rate in 2011 is', cancel_rate_2011, '%')"
      ],
      "id": "ca8edaa1",
      "execution_count": 36,
      "outputs": [
        {
          "output_type": "stream",
          "name": "stdout",
          "text": [
            "cancellation rate in 2009 is 0.09718312556251317 %\n",
            "cancellation rate in 2010 is 0.949713716704008 %\n",
            "cancellation rate in 2011 is 0.8195936500641505 %\n"
          ]
        }
      ]
    },
    {
      "cell_type": "markdown",
      "metadata": {
        "id": "8866bcd4"
      },
      "source": [
        "### Conclusion"
      ],
      "id": "8866bcd4"
    },
    {
      "cell_type": "markdown",
      "metadata": {
        "id": "09c84168"
      },
      "source": [
        "- From the results of the average output of Revenue per year, the average Revenue increases every year, starting from 2009 to 2011.\n",
        "\n",
        "- Based on the data that has been processed, the number of completed transactions is higher than the canceled transactions. Then 2010 was the year that had the most number of successful transactions as well as canceled transactions. Likewise, the highest cancellation rate was in 2010."
      ],
      "id": "09c84168"
    }
  ]
}